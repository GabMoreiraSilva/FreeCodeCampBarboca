{
 "cells": [
  {
   "cell_type": "code",
   "execution_count": 3,
   "id": "c1c14951",
   "metadata": {
    "scrolled": true
   },
   "outputs": [],
   "source": [
    "def arithmetic_arranger(problems, result = False):\n",
    "        \n",
    "    linha1 = ''\n",
    "    linha2 = ''\n",
    "    traco = ''\n",
    "    for values in problems:\n",
    "        numbers = values.split(' ')\n",
    "        if len(problems) > 5:\n",
    "            raise Exception('Error: Too many problems.')\n",
    "        elif ('*' or '/') in values:\n",
    "            raise Exception('Error: Operator must be \"+\" or \"-\".')\n",
    "        elif (numbers[0].isdigit() and numbers[2].isdigit()) != True:\n",
    "            raise Exception('Error: Numbers must only contain digits.')\n",
    "        elif len(numbers[0]) > 4 or len(numbers[2]) > 4:\n",
    "            raise Exception('Error: Numbers cannot be more than four digits.')\n",
    "            \n",
    "        espaco1 = ' ' * (len(numbers[2]) - len(numbers[0]))\n",
    "        espaco2 = ' ' * (len(numbers[0]) - len(numbers[2]))\n",
    "        linha1 = linha1 + '  ' + espaco1 + numbers[0] + (' '*4)\n",
    "        linha2 = linha2 + numbers[1] + ' ' + espaco2 + numbers[2] + (' '*4)\n",
    "        traco = traco + '-' * len(max())\n",
    "        \n",
    "    \n",
    "    \n",
    "    arranged_problems = linha1 + '\\n' + linha2\n",
    "    \n",
    "    return arranged_problems"
   ]
  },
  {
   "cell_type": "code",
   "execution_count": 4,
   "id": "3a36388a",
   "metadata": {},
   "outputs": [
    {
     "name": "stdout",
     "output_type": "stream",
     "text": [
      "    22      3801       45      5555      45    \n",
      "+ 2298    -    2    + 666    +   43    + 43    \n"
     ]
    }
   ],
   "source": [
    "print(arithmetic_arranger([\"22 + 2298\", \"3801 - 2\", \"45 + 666\", \"5555 + 43\", \"45 + 43\"]))"
   ]
  },
  {
   "cell_type": "code",
   "execution_count": 158,
   "id": "6e6af53f",
   "metadata": {},
   "outputs": [],
   "source": [
    "teste =[\"30 + 698\", \"3801 - 2\", \"45 + 43\"]"
   ]
  },
  {
   "cell_type": "code",
   "execution_count": 166,
   "id": "f6ea1102",
   "metadata": {},
   "outputs": [
    {
     "name": "stdout",
     "output_type": "stream",
     "text": [
      "698\n",
      "3801\n",
      "45\n"
     ]
    }
   ],
   "source": [
    "for i in teste:\n",
    "    a = i.split(' ')\n",
    "    print(max(a))"
   ]
  },
  {
   "cell_type": "code",
   "execution_count": 226,
   "id": "74692296",
   "metadata": {},
   "outputs": [
    {
     "data": {
      "text/plain": [
       "''"
      ]
     },
     "execution_count": 226,
     "metadata": {},
     "output_type": "execute_result"
    }
   ],
   "source": [
    "espaco1 = (2 - 6)* ' '\n",
    "espaco1"
   ]
  },
  {
   "cell_type": "code",
   "execution_count": 232,
   "id": "06e9439a",
   "metadata": {},
   "outputs": [
    {
     "name": "stdout",
     "output_type": "stream",
     "text": [
      "coisa qualquer  Outra coisa mcarc\n"
     ]
    }
   ],
   "source": [
    "print('coisa qualquer'+ '  ' + espaco1 + 'Outra coisa mcarc')"
   ]
  },
  {
   "cell_type": "code",
   "execution_count": null,
   "id": "0081dad7",
   "metadata": {},
   "outputs": [],
   "source": []
  }
 ],
 "metadata": {
  "kernelspec": {
   "display_name": "Python 3",
   "language": "python",
   "name": "python3"
  },
  "language_info": {
   "codemirror_mode": {
    "name": "ipython",
    "version": 3
   },
   "file_extension": ".py",
   "mimetype": "text/x-python",
   "name": "python",
   "nbconvert_exporter": "python",
   "pygments_lexer": "ipython3",
   "version": "3.8.8"
  }
 },
 "nbformat": 4,
 "nbformat_minor": 5
}
