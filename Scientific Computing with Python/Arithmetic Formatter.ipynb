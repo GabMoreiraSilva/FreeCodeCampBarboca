{
 "cells": [
  {
   "cell_type": "code",
   "execution_count": 43,
   "id": "c1c14951",
   "metadata": {
    "scrolled": true
   },
   "outputs": [],
   "source": [
    "def arithmetic_arranger(problems, resultado = False):  \n",
    "    linha1 = ''\n",
    "    linha2 = ''\n",
    "    traco = ''\n",
    "    resolucao= ''\n",
    "    if resultado == True:\n",
    "        resolucao = '\\n'\n",
    "    \n",
    "    for n , values in enumerate(problems):\n",
    "        numbers = values.split(' ')\n",
    "        if len(problems) > 5:\n",
    "            return 'Error: Too many problems.'\n",
    "            break\n",
    "        elif '*' in values or '/' in values:\n",
    "            return \"Error: Operator must be '+' or '-'.\"\n",
    "            break\n",
    "        elif (numbers[0].isdigit() and numbers[2].isdigit()) != True:\n",
    "            return 'Error: Numbers must only contain digits.'\n",
    "            break\n",
    "        elif len(numbers[0]) > 4 or len(numbers[2]) > 4:\n",
    "            return 'Error: Numbers cannot be more than four digits.'\n",
    "            break\n",
    " \n",
    "        espaco1 = ' ' * (len(numbers[2]) - len(numbers[0]))\n",
    "        espaco2 = ' ' * (len(numbers[0]) - len(numbers[2]))\n",
    "        if n == (len(problems)-1):\n",
    "            linha1 = linha1 + '  ' + espaco1 + numbers[0]\n",
    "            linha2 = linha2 + numbers[1] + ' ' + espaco2 + numbers[2]\n",
    "            traco = traco + '-' * (len(max(numbers, key=len))+2)\n",
    "        else:\n",
    "            linha1 = linha1 + '  ' + espaco1 + numbers[0] + (' '*4)\n",
    "            linha2 = linha2 + numbers[1] + ' ' + espaco2 + numbers[2] + (' '*4)\n",
    "            traco = traco + '-' * (len(max(numbers, key=len))+2) + (' '*4)\n",
    "        \n",
    "        if resultado == True:\n",
    "            if n == (len(problems)-1):\n",
    "                if numbers[1] == '+':\n",
    "                    soma = int(numbers[0]) + int(numbers[2])\n",
    "                    espaco = ' ' * ((len(max(numbers, key=len))+2) - len(str(soma)))\n",
    "                    resolucao = resolucao + espaco + str(soma)\n",
    "                else:\n",
    "                    menos = int(numbers[0]) - int(numbers[2])\n",
    "                    espaco = ' ' * ((len(max(numbers, key=len))+2) - len(str(menos)))\n",
    "                    resolucao = resolucao + espaco + str(menos)\n",
    "            else:\n",
    "                if numbers[1] == '+':\n",
    "                    soma = int(numbers[0]) + int(numbers[2])\n",
    "                    espaco = ' ' * ((len(max(numbers, key=len))+2) - len(str(soma)))\n",
    "                    resolucao = resolucao + espaco + str(soma) + (' '*4)\n",
    "                else:\n",
    "                    menos = int(numbers[0]) - int(numbers[2])\n",
    "                    espaco = ' ' * ((len(max(numbers, key=len))+2) - len(str(menos)))\n",
    "                    resolucao = resolucao + espaco + str(menos) + (' '*4)\n",
    "\n",
    "    \n",
    "    \n",
    "    arranged_problems = linha1 + '\\n' + linha2 + '\\n' + traco + resolucao\n",
    "    \n",
    "    return arranged_problems"
   ]
  },
  {
   "cell_type": "code",
   "execution_count": null,
   "id": "6fa4fd1e",
   "metadata": {},
   "outputs": [],
   "source": []
  }
 ],
 "metadata": {
  "kernelspec": {
   "display_name": "Python 3",
   "language": "python",
   "name": "python3"
  },
  "language_info": {
   "codemirror_mode": {
    "name": "ipython",
    "version": 3
   },
   "file_extension": ".py",
   "mimetype": "text/x-python",
   "name": "python",
   "nbconvert_exporter": "python",
   "pygments_lexer": "ipython3",
   "version": "3.8.8"
  }
 },
 "nbformat": 4,
 "nbformat_minor": 5
}
