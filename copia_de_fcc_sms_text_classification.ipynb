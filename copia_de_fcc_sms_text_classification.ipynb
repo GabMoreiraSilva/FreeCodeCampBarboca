{
  "nbformat": 4,
  "nbformat_minor": 0,
  "metadata": {
    "colab": {
      "name": "copia_de_fcc_sms_text_classification.ipynb",
      "provenance": [],
      "collapsed_sections": []
    },
    "kernelspec": {
      "name": "python3",
      "display_name": "Python 3"
    },
    "language_info": {
      "name": "python"
    },
    "accelerator": "GPU"
  },
  "cells": [
    {
      "cell_type": "code",
      "source": [
        "# import libraries\n",
        "try:\n",
        "  # %tensorflow_version only exists in Colab.\n",
        "  !pip install tf-nightly\n",
        "except Exception:\n",
        "  pass\n",
        "import tensorflow as tf\n",
        "import pandas as pd\n",
        "from tensorflow import keras\n",
        "!pip install tensorflow-datasets\n",
        "import tensorflow_datasets as tfds\n",
        "import numpy as np\n",
        "import matplotlib.pyplot as plt\n",
        "\n",
        "# helps in text preprocessing\n",
        "from tensorflow.keras.preprocessing.sequence import pad_sequences\n",
        "from tensorflow.keras.preprocessing.text import Tokenizer\n",
        "from tensorflow.keras.callbacks import EarlyStopping\n",
        "\n",
        "print(tf.__version__)"
      ],
      "metadata": {
        "id": "YaTgy8JTYf7w"
      },
      "execution_count": null,
      "outputs": []
    },
    {
      "cell_type": "markdown",
      "source": [
        "# Get data files\n"
      ],
      "metadata": {
        "id": "gdqE-FkvYhmn"
      }
    },
    {
      "cell_type": "code",
      "source": [
        "!wget https://cdn.freecodecamp.org/project-data/sms/train-data.tsv\n",
        "!wget https://cdn.freecodecamp.org/project-data/sms/valid-data.tsv"
      ],
      "metadata": {
        "id": "dHPBeFUTY5TY"
      },
      "execution_count": null,
      "outputs": []
    },
    {
      "cell_type": "markdown",
      "source": [
        "#Caminho dos Dataset"
      ],
      "metadata": {
        "id": "F4Ujv0tlZarf"
      }
    },
    {
      "cell_type": "code",
      "source": [
        "train_file_path = \"train-data.tsv\"\n",
        "test_file_path = \"valid-data.tsv\""
      ],
      "metadata": {
        "id": "54Egd3wLY7uI"
      },
      "execution_count": 3,
      "outputs": []
    },
    {
      "cell_type": "markdown",
      "source": [
        "#Preparando Dataset e Separando Labels"
      ],
      "metadata": {
        "id": "KBu1O2ywZD7b"
      }
    },
    {
      "cell_type": "code",
      "source": [
        "train_file = pd.read_table(train_file_path, header=None)\n",
        "test_file = pd.read_table(test_file_path, header=None)"
      ],
      "metadata": {
        "id": "BzWQZ6EKZDmQ"
      },
      "execution_count": 4,
      "outputs": []
    },
    {
      "cell_type": "markdown",
      "source": [
        "#Separando target das features"
      ],
      "metadata": {
        "id": "e7GdFpCpZilp"
      }
    },
    {
      "cell_type": "code",
      "source": [
        "X_train = train_file[1]\n",
        "Y_train = np.array(train_file[0].to_list())"
      ],
      "metadata": {
        "id": "UnvVquvfZrhu"
      },
      "execution_count": 5,
      "outputs": []
    },
    {
      "cell_type": "markdown",
      "source": [
        "#Separando os testes"
      ],
      "metadata": {
        "id": "Z-x3uOOuZtA7"
      }
    },
    {
      "cell_type": "code",
      "source": [
        "X_test = test_file[1]\n",
        "Y_test = np.array(test_file[0].to_list())"
      ],
      "metadata": {
        "id": "4QBObsosZzPB"
      },
      "execution_count": 6,
      "outputs": []
    },
    {
      "cell_type": "markdown",
      "source": [
        "#Colocando variáveis de configuração"
      ],
      "metadata": {
        "id": "twQyDrj2Z3o6"
      }
    },
    {
      "cell_type": "code",
      "source": [
        "vocab_size = 10000\n",
        "embedding_dim = 16\n",
        "max_length = 100\n",
        "trunc_type='post'\n",
        "padding_type='post'\n",
        "oov_tok = \"<OOV>\"\n",
        "training_size = 20000"
      ],
      "metadata": {
        "id": "wlQYhpIpZ2G_"
      },
      "execution_count": 7,
      "outputs": []
    },
    {
      "cell_type": "markdown",
      "source": [
        "#Pré-processando os dados"
      ],
      "metadata": {
        "id": "NFmb89TGZ_wl"
      }
    },
    {
      "cell_type": "code",
      "source": [
        "t = Tokenizer(vocab_size,oov_token=oov_tok)\n",
        "t.fit_on_texts(X_train)\n",
        "\n",
        "word_index = t.word_index\n",
        "\n",
        "X_train_t = t.texts_to_sequences(X_train)\n",
        "training_padded = pad_sequences(X_train_t, maxlen=max_length, padding=padding_type, truncating=trunc_type)\n",
        "\n",
        "X_test_t = t.texts_to_sequences(X_test)\n",
        "testing_padded = pad_sequences(X_test_t, maxlen=max_length, padding=padding_type, truncating=trunc_type)"
      ],
      "metadata": {
        "id": "2nRRWEaiaDfB"
      },
      "execution_count": 8,
      "outputs": []
    },
    {
      "cell_type": "code",
      "source": [
        "from sklearn.preprocessing import LabelEncoder\n",
        "\n",
        "le = LabelEncoder()\n",
        "train_y = le.fit_transform(Y_train)\n",
        "test_y = le.transform(Y_test)\n",
        "\n",
        "training_padded = np.array(training_padded)\n",
        "train_label = np.array(train_y)\n",
        "testing_padded = np.array(testing_padded)\n",
        "test_label = np.array(test_y)"
      ],
      "metadata": {
        "id": "FxDrx1dxaHsX"
      },
      "execution_count": 9,
      "outputs": []
    },
    {
      "cell_type": "markdown",
      "source": [
        "#Criando o modelo e treinando"
      ],
      "metadata": {
        "id": "qy6LsSuoaMIM"
      }
    },
    {
      "cell_type": "code",
      "source": [
        "model = keras.Sequential([\n",
        "    tf.keras.layers.Embedding(vocab_size, embedding_dim, input_length=max_length),\n",
        "    tf.keras.layers.Flatten(),\n",
        "    tf.keras.layers.Dense(32, activation='relu'),\n",
        "    tf.keras.layers.Dense(64, activation='relu'),\n",
        "    tf.keras.layers.Dense(1, activation='sigmoid')\n",
        "])\n",
        "model.compile(loss='binary_crossentropy',optimizer='adam',metrics=['accuracy'])\n",
        "\n",
        "num_epochs = 5\n",
        "history = model.fit(training_padded, train_label, epochs=num_epochs, validation_data=(testing_padded, test_label))"
      ],
      "metadata": {
        "colab": {
          "base_uri": "https://localhost:8080/"
        },
        "id": "d0jXaWUvaRFI",
        "outputId": "4f02092d-3762-4a13-b5d1-744a565d45a5"
      },
      "execution_count": 20,
      "outputs": [
        {
          "output_type": "stream",
          "name": "stdout",
          "text": [
            "Epoch 1/5\n",
            "131/131 [==============================] - 2s 9ms/step - loss: 0.2663 - accuracy: 0.8918 - val_loss: 0.0993 - val_accuracy: 0.9763\n",
            "Epoch 2/5\n",
            "131/131 [==============================] - 1s 7ms/step - loss: 0.0495 - accuracy: 0.9852 - val_loss: 0.0450 - val_accuracy: 0.9885\n",
            "Epoch 3/5\n",
            "131/131 [==============================] - 1s 8ms/step - loss: 0.0160 - accuracy: 0.9955 - val_loss: 0.0389 - val_accuracy: 0.9885\n",
            "Epoch 4/5\n",
            "131/131 [==============================] - 1s 7ms/step - loss: 0.0061 - accuracy: 0.9988 - val_loss: 0.0396 - val_accuracy: 0.9878\n",
            "Epoch 5/5\n",
            "131/131 [==============================] - 1s 7ms/step - loss: 0.0034 - accuracy: 0.9995 - val_loss: 0.0402 - val_accuracy: 0.9878\n"
          ]
        }
      ]
    },
    {
      "cell_type": "markdown",
      "source": [
        "#Mostrando o treino gráficamente"
      ],
      "metadata": {
        "id": "xjn66DryaTM8"
      }
    },
    {
      "cell_type": "code",
      "source": [
        "def plot_graphs(history, string):\n",
        "  plt.plot(history.history[string])\n",
        "  plt.plot(history.history['val_'+string])\n",
        "  plt.xlabel(\"Epochs\")\n",
        "  plt.ylabel(string)\n",
        "  plt.legend([string, 'val_'+string])\n",
        "  plt.show()\n",
        "  \n",
        "plot_graphs(history, \"accuracy\")\n",
        "plot_graphs(history, \"loss\")"
      ],
      "metadata": {
        "colab": {
          "base_uri": "https://localhost:8080/",
          "height": 541
        },
        "id": "AxQa6okPaWSU",
        "outputId": "44212e52-09ee-4a7f-d9ac-333b1ef715a5"
      },
      "execution_count": 21,
      "outputs": [
        {
          "output_type": "display_data",
          "data": {
            "text/plain": [
              "<Figure size 432x288 with 1 Axes>"
            ],
            "image/png": "[encoded data removed]"
          },
          "metadata": {
            "needs_background": "light"
          }
        },
        {
          "output_type": "display_data",
          "data": {
            "text/plain": [
              "<Figure size 432x288 with 1 Axes>"
            ],
            "image/png": "[encoded data removed]"
          },
          "metadata": {
            "needs_background": "light"
          }
        }
      ]
    },
    {
      "cell_type": "markdown",
      "source": [
        "#Criando função de teste"
      ],
      "metadata": {
        "id": "nhatIXl7aYqy"
      }
    },
    {
      "cell_type": "code",
      "source": [
        "sentence = [\"sale today! to stop texts call 98912460324\"]\n",
        "\n",
        "def previsao(sentence):\n",
        "  sequences = t.texts_to_sequences(sentence)\n",
        "  padded = pad_sequences(sequences, maxlen=max_length, padding=padding_type, truncating=trunc_type)\n",
        "  return (float(model.predict(padded)), 'ham' if model.predict(padded) < 0.5 else 'spam' )\n",
        "\n",
        "previsao(sentence)"
      ],
      "metadata": {
        "colab": {
          "base_uri": "https://localhost:8080/"
        },
        "id": "rkDeMXg6abmj",
        "outputId": "034a8cf3-a267-4789-95b4-6fce8803c729"
      },
      "execution_count": 22,
      "outputs": [
        {
          "output_type": "stream",
          "name": "stdout",
          "text": [
            "1/1 [==============================] - 0s 70ms/step\n",
            "1/1 [==============================] - 0s 30ms/step\n"
          ]
        },
        {
          "output_type": "execute_result",
          "data": {
            "text/plain": [
              "(0.5739505290985107, 'spam')"
            ]
          },
          "metadata": {},
          "execution_count": 22
        }
      ]
    },
    {
      "cell_type": "markdown",
      "source": [
        "#Função para o teste"
      ],
      "metadata": {
        "id": "_PbeAD6qaxO4"
      }
    },
    {
      "cell_type": "code",
      "source": [
        "def predict_message(sentence):\n",
        "  sequences = t.texts_to_sequences([sentence])\n",
        "  padded = pad_sequences(sequences, maxlen=max_length, padding=padding_type, truncating=trunc_type)\n",
        "  return (float(model.predict(padded)), 'ham' if model.predict(padded) < 0.5 else 'spam' )"
      ],
      "metadata": {
        "id": "CvlTa8hwa4pk"
      },
      "execution_count": 23,
      "outputs": []
    },
    {
      "cell_type": "markdown",
      "source": [
        "#Teste do desafio"
      ],
      "metadata": {
        "id": "bGVlkONra7dr"
      }
    },
    {
      "cell_type": "code",
      "execution_count": 24,
      "metadata": {
        "colab": {
          "base_uri": "https://localhost:8080/"
        },
        "id": "2CKaIk2vYdf5",
        "outputId": "2b5f6a29-3215-43c4-ca06-d2f235420ade"
      },
      "outputs": [
        {
          "output_type": "stream",
          "name": "stdout",
          "text": [
            "1/1 [==============================] - 0s 20ms/step\n",
            "1/1 [==============================] - 0s 19ms/step\n",
            "1/1 [==============================] - 0s 20ms/step\n",
            "1/1 [==============================] - 0s 17ms/step\n",
            "1/1 [==============================] - 0s 17ms/step\n",
            "1/1 [==============================] - 0s 19ms/step\n",
            "1/1 [==============================] - 0s 19ms/step\n",
            "1/1 [==============================] - 0s 19ms/step\n",
            "1/1 [==============================] - 0s 23ms/step\n",
            "1/1 [==============================] - 0s 20ms/step\n",
            "1/1 [==============================] - 0s 25ms/step\n",
            "1/1 [==============================] - 0s 21ms/step\n",
            "1/1 [==============================] - 0s 18ms/step\n",
            "1/1 [==============================] - 0s 24ms/step\n",
            "You passed the challenge. Great job!\n"
          ]
        }
      ],
      "source": [
        "def test_predictions():\n",
        "  test_messages = [\"how are you doing today\",\n",
        "                   \"sale today! to stop texts call 98912460324\",\n",
        "                   \"i dont want to go. can we try it a different day? available sat\",\n",
        "                   \"our new mobile video service is live. just install on your phone to start watching.\",\n",
        "                   \"you have won £1000 cash! call to claim your prize.\",\n",
        "                   \"i'll bring it tomorrow. don't forget the milk.\",\n",
        "                   \"wow, is your arm alright. that happened to me one time too\"\n",
        "                  ]\n",
        "\n",
        "  test_answers = [\"ham\", \"spam\", \"ham\", \"spam\", \"spam\", \"ham\", \"ham\"]\n",
        "  passed = True\n",
        "\n",
        "  for msg, ans in zip(test_messages, test_answers):   \n",
        "    prediction = predict_message(msg)\n",
        "    if prediction[1] != ans:\n",
        "      passed = False\n",
        "\n",
        "  if passed:\n",
        "    print(\"You passed the challenge. Great job!\")\n",
        "  else:\n",
        "    print(\"You haven't passed yet. Keep trying.\")\n",
        "\n",
        "test_predictions()"
      ]
    },
    {
      "cell_type": "code",
      "source": [
        ""
      ],
      "metadata": {
        "id": "ng41YOFObtx-"
      },
      "execution_count": 14,
      "outputs": []
    }
  ]
}